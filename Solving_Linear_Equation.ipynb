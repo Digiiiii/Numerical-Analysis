{
  "nbformat": 4,
  "nbformat_minor": 0,
  "metadata": {
    "colab": {
      "provenance": [],
      "collapsed_sections": [
        "5--R5tb3VInT",
        "mEvie2XsVSWC"
      ]
    },
    "kernelspec": {
      "name": "python3",
      "display_name": "Python 3"
    },
    "language_info": {
      "name": "python"
    }
  },
  "cells": [
    {
      "cell_type": "code",
      "execution_count": null,
      "metadata": {
        "id": "0rcrqEE-JwiF"
      },
      "outputs": [],
      "source": [
        "import numpy as np"
      ]
    },
    {
      "cell_type": "code",
      "source": [
        "rows = int(input(\"Enter the rank of matrix: \"))\n",
        "cols = rows\n",
        "\n",
        "matrix = []\n",
        "for i in range(rows):\n",
        "  row = []\n",
        "  for j in range(cols):\n",
        "       element = float(input(f\"Enter element at position ({i}, {j}): \"))\n",
        "       row.append(element)\n",
        "  matrix.append(row)\n",
        "\n",
        "matrix = np.array(matrix)\n",
        "\n",
        "for i in range(rows):\n",
        "  if(matrix[i,i]==0):\n",
        "    print(\"Choose another matrix, as diagonal zero\")\n",
        "\n",
        "\n",
        "print(matrix)"
      ],
      "metadata": {
        "colab": {
          "base_uri": "https://localhost:8080/"
        },
        "id": "DCEcVVJlKRm5",
        "outputId": "5447d3df-701d-4056-fd2f-2e9faf637911"
      },
      "execution_count": null,
      "outputs": [
        {
          "output_type": "stream",
          "name": "stdout",
          "text": [
            "Enter the rank of matrix: 3\n",
            "Enter element at position (0, 0): 10\n",
            "Enter element at position (0, 1): -7\n",
            "Enter element at position (0, 2): 0\n",
            "Enter element at position (1, 0): -3\n",
            "Enter element at position (1, 1): 2.099\n",
            "Enter element at position (1, 2): 6\n",
            "Enter element at position (2, 0): 5\n",
            "Enter element at position (2, 1): -1\n",
            "Enter element at position (2, 2): 5\n",
            "[[10.    -7.     0.   ]\n",
            " [-3.     2.099  6.   ]\n",
            " [ 5.    -1.     5.   ]]\n"
          ]
        }
      ]
    },
    {
      "cell_type": "code",
      "source": [
        "D = []\n",
        "for i in range(rows):\n",
        "    element = float(input(f\"Enter element at position ({i}): \"))\n",
        "    D.append(element)\n",
        "D = np.array(D)"
      ],
      "metadata": {
        "colab": {
          "base_uri": "https://localhost:8080/"
        },
        "id": "LKR7CuAaKeVj",
        "outputId": "6092ba52-3a58-4911-b1f2-874411869151"
      },
      "execution_count": null,
      "outputs": [
        {
          "name": "stdout",
          "output_type": "stream",
          "text": [
            "Enter element at position (0): 7\n",
            "Enter element at position (1): 3.901\n",
            "Enter element at position (2): 6\n"
          ]
        }
      ]
    },
    {
      "cell_type": "code",
      "source": [
        "FS(matrix,D,rows)"
      ],
      "metadata": {
        "colab": {
          "base_uri": "https://localhost:8080/"
        },
        "id": "5bavRi_opip4",
        "outputId": "075de3ed-74b1-42da-e93d-4ff72b638fef"
      },
      "execution_count": null,
      "outputs": [
        {
          "output_type": "stream",
          "name": "stdout",
          "text": [
            "[2.5 1.4]\n"
          ]
        }
      ]
    },
    {
      "cell_type": "markdown",
      "source": [],
      "metadata": {
        "id": "8xjo8Oawlzg3"
      }
    },
    {
      "cell_type": "code",
      "source": [
        "BS(matrix,D,rows)"
      ],
      "metadata": {
        "colab": {
          "base_uri": "https://localhost:8080/"
        },
        "id": "mbcey-u4qSLE",
        "outputId": "e2dcac41-77c7-499d-e69d-1fd2c32f6576"
      },
      "execution_count": null,
      "outputs": [
        {
          "output_type": "stream",
          "name": "stdout",
          "text": [
            "[-3.10862447e-13 -1.00000000e+00  1.00000000e+00]\n"
          ]
        }
      ]
    },
    {
      "cell_type": "markdown",
      "source": [
        "# Gaussian Elimination"
      ],
      "metadata": {
        "id": "eX3IYfdglUEL"
      }
    },
    {
      "cell_type": "code",
      "source": [
        "n=rows\n",
        "for k in range(n-1):\n",
        "  for i in range(k+1,n):\n",
        "    t= matrix[i,k]/matrix[k,k]\n",
        "    matrix[i,k]=0\n",
        "    D[i]=D[i]-t*D[k]\n",
        "    for j in range(k+1,n):\n",
        "      matrix[i,j]=matrix[i,j]-t*matrix[k,j]\n",
        "\n",
        "print(matrix)\n",
        "print(D)\n"
      ],
      "metadata": {
        "colab": {
          "base_uri": "https://localhost:8080/"
        },
        "id": "AmqmFaU-AnFv",
        "outputId": "0864aa1b-64f4-4b5e-b2e4-8ae4819fc155"
      },
      "execution_count": null,
      "outputs": [
        {
          "output_type": "stream",
          "name": "stdout",
          "text": [
            "[[9.         5.        ]\n",
            " [0.         7.44444444]]\n",
            "[ 7.         -2.77777778]\n"
          ]
        }
      ]
    },
    {
      "cell_type": "markdown",
      "source": [
        "# Forward Substitution(LTM)"
      ],
      "metadata": {
        "id": "5--R5tb3VInT"
      }
    },
    {
      "cell_type": "code",
      "source": [
        "def FS(matrix,D,rows):\n",
        "  X=np.zeros(rows)\n",
        "  for i in range(rows):\n",
        "    temp=D[i]\n",
        "    for j in range(i):\n",
        "      temp = temp - matrix[i,j]*X[j]\n",
        "    X[i] = temp/matrix[i,i]\n",
        "\n",
        "  return print(X)"
      ],
      "metadata": {
        "id": "BYXa4eGaLzNZ"
      },
      "execution_count": null,
      "outputs": []
    },
    {
      "cell_type": "markdown",
      "source": [
        "# Back Substitution(UTM)"
      ],
      "metadata": {
        "id": "mEvie2XsVSWC"
      }
    },
    {
      "cell_type": "code",
      "source": [
        "def BS(matrix,D,rows):\n",
        "  Y=np.zeros(rows)\n",
        "  for i in range(rows-1, -1, -1):\n",
        "        tmp = D[i]\n",
        "        for j in range(i+1, rows):\n",
        "          tmp = tmp - matrix[i,j] * Y[j]\n",
        "        Y[i] = tmp / matrix[i,i]\n",
        "\n",
        "  return print(Y)"
      ],
      "metadata": {
        "id": "wz3YJfKVRuUF"
      },
      "execution_count": null,
      "outputs": []
    },
    {
      "cell_type": "markdown",
      "source": [
        "# GAUSSIAN WITH PIVOT"
      ],
      "metadata": {
        "id": "PmFw9sxAsQjx"
      }
    },
    {
      "cell_type": "code",
      "source": [
        "def swap_rows(matrix, row1, row2):\n",
        "   matrix[[row1, row2]] = matrix[[row2, row1]]"
      ],
      "metadata": {
        "id": "sIDZ1gNVrTYH"
      },
      "execution_count": null,
      "outputs": []
    },
    {
      "cell_type": "code",
      "source": [
        "p=[0]*n\n",
        "n=rows\n",
        "for i in range(0,n):\n",
        "  p[i]=i\n",
        "\n",
        "for k in range(0,n-1):\n",
        "  m=k\n",
        "  for i in range(k+1,n):\n",
        "    if(abs(matrix[p[m],k]) < abs(matrix[p[i],k])):\n",
        "      m=i\n",
        "\n",
        "  l=p[k]\n",
        "  p[k]=p[m]\n",
        "  p[m]=l\n",
        "\n",
        "\n",
        "  for i in range(k+1,n):\n",
        "    matrix[p[i],k]=matrix[p[i],k]/matrix[p[k],k]\n",
        "\n",
        "    for j in range(k,n):\n",
        "      matrix[p[i],j]=matrix[p[i],j]-matrix[p[i],k]*matrix[p[k],j]\n",
        "\n",
        "\n",
        "print(matrix)\n",
        "print(D)"
      ],
      "metadata": {
        "colab": {
          "base_uri": "https://localhost:8080/"
        },
        "id": "VsG9ITB5sQNE",
        "outputId": "7920067d-f8cb-44e4-d30d-338d581408a8"
      },
      "execution_count": null,
      "outputs": [
        {
          "output_type": "stream",
          "name": "stdout",
          "text": [
            "[[10.    -7.     0.   ]\n",
            " [-3.     2.099  6.   ]\n",
            " [ 5.    -1.     5.   ]]\n",
            "[[ 1.0000e+01 -7.0000e+00  0.0000e+00]\n",
            " [ 0.0000e+00 -1.0000e-03  6.0000e+00]\n",
            " [ 0.0000e+00  0.0000e+00  1.5005e+04]]\n",
            "[[ 1.0000e+01 -7.0000e+00  0.0000e+00]\n",
            " [ 0.0000e+00 -1.0000e-03  6.0000e+00]\n",
            " [ 0.0000e+00  0.0000e+00  1.5005e+04]]\n",
            "[7.0000e+00 6.0010e+00 1.5005e+04]\n"
          ]
        }
      ]
    }
  ]
}